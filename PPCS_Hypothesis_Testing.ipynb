{
  "nbformat": 4,
  "nbformat_minor": 0,
  "metadata": {
    "colab": {
      "provenance": [],
      "include_colab_link": true
    },
    "kernelspec": {
      "name": "python3",
      "display_name": "Python 3"
    },
    "language_info": {
      "name": "python"
    }
  },
  "cells": [
    {
      "cell_type": "markdown",
      "metadata": {
        "id": "view-in-github",
        "colab_type": "text"
      },
      "source": [
        "<a href=\"https://colab.research.google.com/github/1zpzz/QM2-Website-/blob/main/PPCS_School_Shooting_rates_Hypothesis_Testing.ipynb\" target=\"_parent\"><img src=\"https://colab.research.google.com/assets/colab-badge.svg\" alt=\"Open In Colab\"/></a>"
      ]
    },
    {
      "cell_type": "code",
      "source": [
        "import pandas as pd\n",
        "import numpy as np\n",
        "from scipy.stats import t\n",
        "import matplotlib.pyplot as plt\n",
        "import seaborn as sns\n",
        "\n",
        "# Load the PPCS spending and school shooting data\n",
        "ppcs_file = \"/content/ESSA 2022-2007.xlsx\"\n",
        "shooting_file = \"/content/public v3 .csv\"\n",
        "\n",
        "ppcs_df = pd.read_excel(ppcs_file)\n",
        "shooting_df = pd.read_csv(shooting_file)\n",
        "\n",
        "# Clean the PPCS data\n",
        "ppcs_cleaned_df = ppcs_df[['state', 2022]].copy()\n",
        "ppcs_cleaned_df.columns = ['State', 'PPCS_PPCS']\n",
        "ppcs_cleaned_df['State'] = ppcs_cleaned_df['State'].astype(str).str.strip()\n",
        "ppcs_cleaned_df['PPCS_PPCS'] = pd.to_numeric(ppcs_cleaned_df['PPCS_PPCS'], errors='coerce')\n",
        "\n",
        "# Clean the shooting data\n",
        "shooting_df[['Year', 'State']] = shooting_df['Year;state'].str.split(';', expand=True)\n",
        "shooting_df['State'] = shooting_df['State'].str.strip().str.upper()\n",
        "shooting_counts = shooting_df.groupby('State').size().reset_index(name='incident_count')\n",
        "\n",
        "# Map full state names to abbreviations\n",
        "state_abbreviation_map = {\n",
        "    'Alabama': 'AL', 'Alaska': 'AK', 'Arizona': 'AZ', 'Arkansas': 'AR',\n",
        "    'California': 'CA', 'Colorado': 'CO', 'Connecticut': 'CT',\n",
        "    'Delaware': 'DE', 'District of Columbia': 'DC', 'Florida': 'FL',\n",
        "    'Georgia': 'GA', 'Hawaii': 'HI', 'Idaho': 'ID', 'Illinois': 'IL',\n",
        "    'Indiana': 'IN', 'Iowa': 'IA', 'Kansas': 'KS', 'Kentucky': 'KY',\n",
        "    'Louisiana': 'LA', 'Maine': 'ME', 'Maryland': 'MD',\n",
        "    'Massachusetts': 'MA', 'Michigan': 'MI', 'Minnesota': 'MN',\n",
        "    'Mississippi': 'MS', 'Missouri': 'MO', 'Montana': 'MT',\n",
        "    'Nebraska': 'NE', 'Nevada': 'NV', 'New Hampshire': 'NH',\n",
        "    'New Jersey': 'NJ', 'New Mexico': 'NM', 'New York': 'NY',\n",
        "    'North Carolina': 'NC', 'North Dakota': 'ND', 'Ohio': 'OH',\n",
        "    'Oklahoma': 'OK', 'Oregon': 'OR', 'Pennsylvania': 'PA',\n",
        "    'Rhode Island': 'RI', 'South Carolina': 'SC', 'South Dakota': 'SD',\n",
        "    'Tennessee': 'TN', 'Texas': 'TX', 'Utah': 'UT', 'Vermont': 'VT',\n",
        "    'Virginia': 'VA', 'Washington': 'WA', 'West Virginia': 'WV',\n",
        "    'Wisconsin': 'WI', 'Wyoming': 'WY'\n",
        "}\n",
        "ppcs_cleaned_df['State'] = ppcs_cleaned_df['State'].map(state_abbreviation_map)\n",
        "\n",
        "# Remove unmatched entries\n",
        "shooting_counts = shooting_counts[shooting_counts['State'].isin(ppcs_cleaned_df['State'])]\n",
        "\n",
        "# Merge datasets\n",
        "merged_df = pd.merge(ppcs_cleaned_df, shooting_counts, on='State', how='inner')\n",
        "\n",
        "# Split data based on PPCS spending\n",
        "mean_ppcs = merged_df['PPCS_PPCS'].mean()\n",
        "high_ppcs = merged_df[merged_df['PPCS_PPCS'] > mean_ppcs]['incident_count']\n",
        "low_ppcs = merged_df[merged_df['PPCS_PPCS'] <= mean_ppcs]['incident_count']\n",
        "\n",
        "# Perform t-test statistic manually\n",
        "df = len(high_ppcs) + len(low_ppcs) - 2\n",
        "critical_value = np.abs(t.ppf(0.05, df))\n",
        "\n",
        "# Calculate t-statistic manually\n",
        "mean_diff = high_ppcs.mean() - low_ppcs.mean()\n",
        "pooled_std = np.sqrt(high_ppcs.var(ddof=1)/len(high_ppcs) + low_ppcs.var(ddof=1)/len(low_ppcs))\n",
        "t_stat = mean_diff / pooled_std\n",
        "\n",
        "print(f\"T-statistic: {t_stat:.3f}, Critical Value: {critical_value:.3f}\")\n",
        "\n",
        "# Hypothesis Decision\n",
        "if t_stat < -critical_value:\n",
        "    print(\"Reject H₀: Higher PPCS spending significantly reduces school shooting rates.\")\n",
        "else:\n",
        "    print(\"Fail to Reject H₀: Higher PPCS spending does not significantly affect school shooting rates.\")\n",
        "\n",
        "# Visualization matching the provided structure\n",
        "groups = pd.DataFrame({'Values': pd.concat([high_ppcs, low_ppcs]),\n",
        "                       'Group': [1]*len(high_ppcs) + [2]*len(low_ppcs)})\n",
        "\n",
        "sns.pointplot(data=groups, x='Group', y='Values',\n",
        "              errorbar=('ci', 95), color='black', join=False, capsize=.8)\n",
        "plt.xlabel('Group')\n",
        "plt.ylabel('Values')\n",
        "plt.title('Comparison of Group Means with 95% Confidence Intervals')\n",
        "plt.show()\n"
      ],
      "metadata": {
        "id": "nzIkXVtWThlx",
        "outputId": "2790d48b-283f-4ed1-c0c0-761b01b6e75a",
        "colab": {
          "base_uri": "https://localhost:8080/",
          "height": 617
        }
      },
      "execution_count": null,
      "outputs": [
        {
          "output_type": "stream",
          "name": "stdout",
          "text": [
            "T-statistic: -0.243, Critical Value: 1.677\n",
            "Fail to Reject H₀: Higher PPCS spending does not significantly affect school shooting rates.\n"
          ]
        },
        {
          "output_type": "stream",
          "name": "stderr",
          "text": [
            "<ipython-input-1-4e2370b3dc24>:78: UserWarning: \n",
            "\n",
            "The `join` parameter is deprecated and will be removed in v0.15.0. You can remove the line between points with `linestyle='none'`.\n",
            "\n",
            "  sns.pointplot(data=groups, x='Group', y='Values',\n"
          ]
        },
        {
          "output_type": "display_data",
          "data": {
            "text/plain": [
              "<Figure size 640x480 with 1 Axes>"
            ],
            "image/png": "[encoded data removed]"
          },
          "metadata": {}
        }
      ]
    }
  ]
}

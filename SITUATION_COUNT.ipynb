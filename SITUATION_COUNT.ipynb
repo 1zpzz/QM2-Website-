{
  "nbformat": 4,
  "nbformat_minor": 0,
  "metadata": {
    "colab": {
      "provenance": [],
      "include_colab_link": true
    },
    "kernelspec": {
      "name": "python3",
      "display_name": "Python 3"
    },
    "language_info": {
      "name": "python"
    }
  },
  "cells": [
    {
      "cell_type": "markdown",
      "metadata": {
        "id": "view-in-github",
        "colab_type": "text"
      },
      "source": [
        "<a href=\"https://colab.research.google.com/github/1zpzz/QM2-Website-/blob/main/SITUATION_COUNT.ipynb\" target=\"_parent\"><img src=\"https://colab.research.google.com/assets/colab-badge.svg\" alt=\"Open In Colab\"/></a>"
      ]
    },
    {
      "cell_type": "code",
      "source": [
        "import pandas as pd\n",
        "import re\n",
        "\n",
        "file_K12= \"/content/Public v3.1 K-12 School Shooting Database (11 25 2024).xlsx\"\n",
        "df = pd.read_excel(file_K12)\n",
        "Situation = \"Situation\"\n",
        "\n",
        "\n",
        "words_to_count = [\"Escalation of Dispute\", \"Illegal Activity\", \"Accidental\", \"Domestic w/ Targeted Victim\", \"Indiscriminate Shooting\", \"Drive-by Shooting\", \"Officer-Involved Shooting\", \"Anger Over Grade/Suspension/Discipline\", \"Suicide/Attempted\", \"Intentional Property Damage\", \"Psychosis\", \"Hostage/Standoff\", \"Racial\", \"Unknown\", \"Murder/Suicide\", \"Self-defense\"]\n",
        "word_counts = {word: 0 for word in words_to_count}\n",
        "\n",
        "for text in df[Situation].dropna():\n",
        "    for word in words_to_count:\n",
        "        word_counts[word] += len(re.findall(fr'{word}', text, re.IGNORECASE))\n",
        "\n",
        "for word, count in word_counts.items():\n",
        "    print(f\"'{word}' was found {count} times.\")\n",
        "\n",
        "mental_health = [\n",
        "    \"Escalation of Dispute\",\n",
        "    \"Psychosis\",\n",
        "    \"Suicide/Attempted\",\n",
        "    \"Indiscriminate Shooting\",\n",
        "    \"Anger Over Grade/Suspension/Discipline\",\n",
        "    \"Racial\"\n",
        "]\n",
        "\n",
        "other = [\n",
        "    \"Illegal Activity\",\n",
        "    \"Drive-by Shooting\",\n",
        "    \"Officer-Involved Shooting\",\n",
        "    \"Intentional Property Damage\",\n",
        "    \"Domestic w/ Targeted Victim\",\n",
        "    \"Hostage/Standoff\",\n",
        "    \"Murder/Suicide\",\n",
        "    \"Self-defense\",\n",
        "    \"Accidental\",\n",
        "    \"Unknown\"\n",
        "]\n",
        "\n",
        "mental_health_count = sum(word_counts[situation] for situation in mental_health if situation in word_counts)\n",
        "other_count = sum(word_counts[situation] for situation in other if situation in word_counts)\n",
        "\n",
        "grouped_counts = {\n",
        "    \"Mental Health\": mental_health_count,\n",
        "    \"Other\": other_count\n",
        "}\n",
        "\n",
        "print(grouped_counts)\n",
        "\n"
      ],
      "metadata": {
        "colab": {
          "base_uri": "https://localhost:8080/"
        },
        "id": "mZmL3XGoxzek",
        "outputId": "ba4e348a-f168-4f62-b1ff-843484047a64"
      },
      "execution_count": null,
      "outputs": [
        {
          "output_type": "stream",
          "name": "stdout",
          "text": [
            "'Escalation of Dispute' was found 986 times.\n",
            "'Illegal Activity' was found 184 times.\n",
            "'Accidental' was found 274 times.\n",
            "'Domestic w/ Targeted Victim' was found 109 times.\n",
            "'Indiscriminate Shooting' was found 135 times.\n",
            "'Drive-by Shooting' was found 239 times.\n",
            "'Officer-Involved Shooting' was found 26 times.\n",
            "'Anger Over Grade/Suspension/Discipline' was found 60 times.\n",
            "'Suicide/Attempted' was found 160 times.\n",
            "'Intentional Property Damage' was found 83 times.\n",
            "'Psychosis' was found 41 times.\n",
            "'Hostage/Standoff' was found 57 times.\n",
            "'Racial' was found 17 times.\n",
            "'Unknown' was found 78 times.\n",
            "'Murder/Suicide' was found 24 times.\n",
            "'Self-defense' was found 1 times.\n",
            "{'Mental Health': 1399, 'Other': 1075}\n"
          ]
        }
      ]
    }
  ]
}